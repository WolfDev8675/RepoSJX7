{
  "nbformat": 4,
  "nbformat_minor": 0,
  "metadata": {
    "colab": {
      "name": "Untitled16.ipynb",
      "private_outputs": true,
      "provenance": [],
      "authorship_tag": "ABX9TyOmw6XUcxQP1qVuKN2lgy7o",
      "include_colab_link": true
    },
    "kernelspec": {
      "name": "python3",
      "display_name": "Python 3"
    },
    "language_info": {
      "name": "python"
    }
  },
  "cells": [
    {
      "cell_type": "markdown",
      "metadata": {
        "id": "view-in-github",
        "colab_type": "text"
      },
      "source": [
        "<a href=\"https://colab.research.google.com/github/WolfDev8675/RepoSJX7/blob/Assign5_miscellaneous/Task_GC_04/Task_Code04.ipynb\" target=\"_parent\"><img src=\"https://colab.research.google.com/assets/colab-badge.svg\" alt=\"Open In Colab\"/></a>"
      ]
    },
    {
      "cell_type": "code",
      "metadata": {
        "id": "8EDgfY3zsOg2"
      },
      "source": [
        "#!usr/bin/python\n",
        "\n",
        "#Problem Statement:\n",
        "# Solve by using Decision Trees the solution to the data given \n",
        "\n",
        "#imports\n",
        "import pandas as pd\n",
        "import numpy as np\n",
        "import seaborn as sns\n",
        "import matplotlib.pyplot as plt\n",
        "from sklearn.tree import DecisionTreeClassifier as DecTree\n",
        "from sklearn.tree import plot_tree\n",
        "from sklearn.preprocessing import OneHotEncoder as OHEnc\n",
        "\n",
        "#Import Data\n",
        "dbs=pd.read_csv(\"https://raw.githubusercontent.com/WolfDev8675/RepoSJX7/Assign5_miscellaneous/Task_GC_04/data.csv\")\n",
        "print(\"\\n\\n Head of the data \\n\",dbs.head(5));\n",
        "print(\"\\n\\n Info of Data : \\n\");dbs.info();\n",
        "\n",
        "# Data conversion \n",
        "dbs['Class']=dbs['Class'].astype('category') # Converting classifier field to categorical\n",
        "\n",
        "# Data distribution \n",
        "print(\"\\n\\n Segregating  Data to the dependent and independent types ....\")\n",
        "X=dbs[[\"Gender\",\"Car Type\",\"Shirt Size\"]]  # Independent variables \n",
        "y=dbs[\"Class\"].cat.codes  # Dependent variables (categorical coded)\n",
        "\n",
        "# One Hot Encoding to fit data \n",
        "print(\"\\n Encoding ....\")\n",
        "ohec=OHEnc()\n",
        "X_enc=ohec.fit_transform(X)\n",
        "\n",
        "\n",
        "# Decisions \n",
        "print(\"\\n Creating the Tree model and training .... \")\n",
        "clfTree=DecTree()\n",
        "clfTree.fit(X_enc,y)\n",
        "\n",
        "# Tree Details\n",
        "print(\"\\n\\n Plot of the Finalized tree \")\n",
        "plot_tree(clfTree,class_names=['C0','C1'])\n",
        "plt.show()\n",
        "\n",
        "\n",
        "\n",
        "#..\n",
        "# End of Code \n",
        "#.. "
      ],
      "execution_count": null,
      "outputs": []
    }
  ]
}