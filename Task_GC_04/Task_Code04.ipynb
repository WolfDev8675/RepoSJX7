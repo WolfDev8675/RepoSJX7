{
  "nbformat": 4,
  "nbformat_minor": 0,
  "metadata": {
    "colab": {
      "name": "Untitled16.ipynb",
      "private_outputs": true,
      "provenance": [],
      "authorship_tag": "ABX9TyOZWRPCRD7IL0T6H8x5/ynY",
      "include_colab_link": true
    },
    "kernelspec": {
      "name": "python3",
      "display_name": "Python 3"
    },
    "language_info": {
      "name": "python"
    }
  },
  "cells": [
    {
      "cell_type": "markdown",
      "metadata": {
        "id": "view-in-github",
        "colab_type": "text"
      },
      "source": [
        "<a href=\"https://colab.research.google.com/github/WolfDev8675/RepoSJX7/blob/Assign5_miscellaneous/Task_GC_04/Task_Code04.ipynb\" target=\"_parent\"><img src=\"https://colab.research.google.com/assets/colab-badge.svg\" alt=\"Open In Colab\"/></a>"
      ]
    },
    {
      "cell_type": "markdown",
      "metadata": {
        "id": "O9BjSbxZAA3_"
      },
      "source": [
        "# Assignment 5:\n",
        "## Problem Statement: Solve by using Decision Trees the solution to the data given"
      ]
    },
    {
      "cell_type": "markdown",
      "metadata": {
        "id": "2kY85mz6AYQD"
      },
      "source": [
        "> ### Question"
      ]
    },
    {
      "cell_type": "code",
      "metadata": {
        "id": "vqvPcY__Aet6"
      },
      "source": [
        "#!usr/bin/python\n",
        "\n",
        "#Problem Statement:\n",
        "# Solve by using Decision Trees the solution to the data given "
      ],
      "execution_count": null,
      "outputs": []
    },
    {
      "cell_type": "markdown",
      "metadata": {
        "id": "Cs7DfKKzAiwr"
      },
      "source": [
        "> ### Imports"
      ]
    },
    {
      "cell_type": "code",
      "metadata": {
        "id": "dsD79dMOAlnv"
      },
      "source": [
        "#imports\n",
        "import pandas as pd\n",
        "import numpy as np\n",
        "import seaborn as sns\n",
        "import matplotlib.pyplot as plt\n",
        "from sklearn.tree import DecisionTreeClassifier as DecTree\n",
        "from sklearn.tree import plot_tree\n",
        "from sklearn.preprocessing import OneHotEncoder as OHEnc"
      ],
      "execution_count": null,
      "outputs": []
    },
    {
      "cell_type": "markdown",
      "metadata": {
        "id": "tf-ppIwMAnbj"
      },
      "source": [
        "> ### Data Imports"
      ]
    },
    {
      "cell_type": "code",
      "metadata": {
        "id": "BsoWpQMMAt4u"
      },
      "source": [
        "#Import Data\n",
        "dbs=pd.read_csv(\"https://raw.githubusercontent.com/WolfDev8675/RepoSJX7/Assign5_miscellaneous/Task_GC_04/data.csv\")\n",
        "print(\"\\n\\n Head of the data \\n\",dbs.head(5));\n",
        "print(\"\\n\\n Info of Data : \\n\");dbs.info();"
      ],
      "execution_count": null,
      "outputs": []
    },
    {
      "cell_type": "markdown",
      "metadata": {
        "id": "YrpTlVlPAv3n"
      },
      "source": [
        "> ### Converting Specific fields to required types"
      ]
    },
    {
      "cell_type": "code",
      "metadata": {
        "id": "cUuumIFYA6Uu"
      },
      "source": [
        "# Data conversion \n",
        "dbs['Class']=dbs['Class'].astype('category') # Converting classifier field to categorical"
      ],
      "execution_count": null,
      "outputs": []
    },
    {
      "cell_type": "markdown",
      "metadata": {
        "id": "IIqICMVhA9zC"
      },
      "source": [
        "> ### Separating fields to X and Y variants"
      ]
    },
    {
      "cell_type": "code",
      "metadata": {
        "id": "ax6t7OJ1BGqQ"
      },
      "source": [
        "# Data distribution \n",
        "print(\"\\n\\n Segregating  Data to the dependent and independent types ....\")\n",
        "X=dbs[[\"Gender\",\"Car Type\",\"Shirt Size\"]]  # Independent variables \n",
        "y=dbs[\"Class\"].cat.codes  # Dependent variables (categorical coded)"
      ],
      "execution_count": null,
      "outputs": []
    },
    {
      "cell_type": "markdown",
      "metadata": {
        "id": "xXDsXcKqBKT_"
      },
      "source": [
        ">  ### Encoding Categoricals "
      ]
    },
    {
      "cell_type": "code",
      "metadata": {
        "id": "JOMiqgE2BQqU"
      },
      "source": [
        "# One Hot Encoding to fit data \n",
        "print(\"\\n Encoding ....\")\n",
        "ohec=OHEnc()\n",
        "X_enc=ohec.fit_transform(X)"
      ],
      "execution_count": null,
      "outputs": []
    },
    {
      "cell_type": "markdown",
      "metadata": {
        "id": "1_AkGKxDBWHI"
      },
      "source": [
        "> ### Decision Tree creation and training"
      ]
    },
    {
      "cell_type": "code",
      "metadata": {
        "id": "mXPckzYPBdfh"
      },
      "source": [
        "# Decisions \n",
        "print(\"\\n Creating the Tree model and training .... \")\n",
        "clfTree=DecTree()\n",
        "clfTree.fit(X_enc,y)"
      ],
      "execution_count": null,
      "outputs": []
    },
    {
      "cell_type": "markdown",
      "metadata": {
        "id": "HEEW9AeZBejQ"
      },
      "source": [
        "> ### Defining results"
      ]
    },
    {
      "cell_type": "code",
      "metadata": {
        "id": "8EDgfY3zsOg2"
      },
      "source": [
        "# Tree Details\n",
        "print(\"\\n\\n Plot of the Finalized tree \")\n",
        "fig=plt.figure(figsize=(15,8))\n",
        "plot_tree(clfTree,class_names=['C0','C1'])\n",
        "plt.show()\n",
        "\n",
        "#..\n",
        "# End of Code \n",
        "#.. "
      ],
      "execution_count": null,
      "outputs": []
    },
    {
      "cell_type": "markdown",
      "metadata": {
        "id": "OKoUG1gQBnMO"
      },
      "source": [
        "END "
      ]
    }
  ]
}