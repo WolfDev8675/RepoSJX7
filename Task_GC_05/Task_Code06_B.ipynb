{
  "nbformat": 4,
  "nbformat_minor": 0,
  "metadata": {
    "colab": {
      "name": "Untitled18.ipynb",
      "provenance": [],
      "authorship_tag": "ABX9TyNi9jwHqw2EvUgYHA3hArIj",
      "include_colab_link": true
    },
    "kernelspec": {
      "name": "python3",
      "display_name": "Python 3"
    },
    "language_info": {
      "name": "python"
    },
    "accelerator": "TPU"
  },
  "cells": [
    {
      "cell_type": "markdown",
      "metadata": {
        "id": "view-in-github",
        "colab_type": "text"
      },
      "source": [
        "<a href=\"https://colab.research.google.com/github/WolfDev8675/RepoSJX7/blob/Assign5_miscellaneous/Task_Code06_B.ipynb\" target=\"_parent\"><img src=\"https://colab.research.google.com/assets/colab-badge.svg\" alt=\"Open In Colab\"/></a>"
      ]
    },
    {
      "cell_type": "markdown",
      "metadata": {
        "id": "hxdY6lD54UKZ"
      },
      "source": [
        "# Assignment 5:\n",
        "## Problem Statement: Convert the decision tree program to model Linear classification and Random Forest and report  your observation\n",
        "### Part problem: Using Random Forest Classification model "
      ]
    },
    {
      "cell_type": "markdown",
      "metadata": {
        "id": "e5K8bWzj5N3-"
      },
      "source": [
        "> ####  Question"
      ]
    },
    {
      "cell_type": "code",
      "metadata": {
        "id": "J72lg7qEA8H1"
      },
      "source": [
        "#!usr/bin/python\n",
        "\n",
        "#Problem Statement:\n",
        "#Convert the decision tree program to model Linear classification and Random Forest and report  your observation\n",
        "# Part problem: Using Random Forest Classification model "
      ],
      "execution_count": 17,
      "outputs": []
    },
    {
      "cell_type": "markdown",
      "metadata": {
        "id": "Cji6efds5fDf"
      },
      "source": [
        "> #### Import of the essential libraries"
      ]
    },
    {
      "cell_type": "code",
      "metadata": {
        "id": "xgmjhI704tEv"
      },
      "source": [
        "#imports\n",
        "import pandas as pd\n",
        "import numpy as np\n",
        "import seaborn as sns\n",
        "import matplotlib.pyplot as plt\n",
        "from sklearn.linear_model import Perceptron as A_Neur\n",
        "from sklearn.ensemble import RandomForestClassifier as RFC\n",
        "from sklearn.preprocessing import OneHotEncoder as OHEnc"
      ],
      "execution_count": 18,
      "outputs": []
    },
    {
      "cell_type": "markdown",
      "metadata": {
        "id": "qgBZnnaz5omd"
      },
      "source": [
        "> #### Data imports"
      ]
    },
    {
      "cell_type": "code",
      "metadata": {
        "colab": {
          "base_uri": "https://localhost:8080/"
        },
        "id": "BgFAqdzp4wP0",
        "outputId": "8d249d07-63ea-4277-d0c7-ae308792ac06"
      },
      "source": [
        "#Import Data\n",
        "dbs=pd.read_csv(\"https://raw.githubusercontent.com/WolfDev8675/RepoSJX7/Assign5_miscellaneous/Task_GC_05/data.csv\")\n",
        "print(\"\\n\\n Head of the data \\n\",dbs.head(5));\n",
        "print(\"\\n\\n Info of Data : \\n\");dbs.info();"
      ],
      "execution_count": 19,
      "outputs": [
        {
          "output_type": "stream",
          "name": "stdout",
          "text": [
            "\n",
            "\n",
            " Head of the data \n",
            "   Gender Car Type   Shirt Size Class\n",
            "0      M   Family        Small    C0\n",
            "1      M   Sports       Medium    C0\n",
            "2      M   Sports       Medium    C0\n",
            "3      M   Sports        Large    C0\n",
            "4      M   Sports  Extra Large    C0\n",
            "\n",
            "\n",
            " Info of Data : \n",
            "\n",
            "<class 'pandas.core.frame.DataFrame'>\n",
            "RangeIndex: 20 entries, 0 to 19\n",
            "Data columns (total 4 columns):\n",
            " #   Column      Non-Null Count  Dtype \n",
            "---  ------      --------------  ----- \n",
            " 0   Gender      20 non-null     object\n",
            " 1   Car Type    20 non-null     object\n",
            " 2   Shirt Size  20 non-null     object\n",
            " 3   Class       20 non-null     object\n",
            "dtypes: object(4)\n",
            "memory usage: 768.0+ bytes\n"
          ]
        }
      ]
    },
    {
      "cell_type": "markdown",
      "metadata": {
        "id": "SvUp8aAu5x5R"
      },
      "source": [
        "> #### Converting required fields to specific types"
      ]
    },
    {
      "cell_type": "code",
      "metadata": {
        "id": "8Upkg0mO41Gf"
      },
      "source": [
        "# Data conversion \n",
        "dbs['Class']=dbs['Class'].astype('category') # Converting classifier field to categorical"
      ],
      "execution_count": 20,
      "outputs": []
    },
    {
      "cell_type": "markdown",
      "metadata": {
        "id": "-CbfODDY56ev"
      },
      "source": [
        "> #### Separating data into the X and Y variables "
      ]
    },
    {
      "cell_type": "code",
      "metadata": {
        "colab": {
          "base_uri": "https://localhost:8080/"
        },
        "id": "0kGNlxSn460m",
        "outputId": "968851ee-33a6-48eb-9c7c-9d6885e4a185"
      },
      "source": [
        "# Data distribution \n",
        "print(\"\\n\\n Segregating  Data to the dependent and independent types ....\")\n",
        "X=dbs[[\"Gender\",\"Car Type\",\"Shirt Size\"]]  # Independent variables \n",
        "y=dbs[\"Class\"].cat.codes  # Dependent variables (categorical coded)"
      ],
      "execution_count": 21,
      "outputs": [
        {
          "output_type": "stream",
          "name": "stdout",
          "text": [
            "\n",
            "\n",
            " Segregating  Data to the dependent and independent types ....\n"
          ]
        }
      ]
    },
    {
      "cell_type": "markdown",
      "metadata": {
        "id": "XDfXyCuu5-WK"
      },
      "source": [
        "> #### Encoding the Categorical Values "
      ]
    },
    {
      "cell_type": "code",
      "metadata": {
        "colab": {
          "base_uri": "https://localhost:8080/"
        },
        "id": "_S7aen_e4_vY",
        "outputId": "e578628b-2919-4c96-aff6-7ded301192f0"
      },
      "source": [
        "# One Hot Encoding to fit data \n",
        "print(\"\\n Encoding ....\")\n",
        "ohec=OHEnc()\n",
        "X_enc=ohec.fit_transform(X)"
      ],
      "execution_count": 22,
      "outputs": [
        {
          "output_type": "stream",
          "name": "stdout",
          "text": [
            "\n",
            " Encoding ....\n"
          ]
        }
      ]
    },
    {
      "cell_type": "markdown",
      "metadata": {
        "id": "cfoHzwZR5_OS"
      },
      "source": [
        "> #### Creating and training the Perceptrons"
      ]
    },
    {
      "cell_type": "code",
      "metadata": {
        "colab": {
          "base_uri": "https://localhost:8080/"
        },
        "id": "c_Uz8iJk5DEU",
        "outputId": "8befcf8e-d7e2-4af4-e9ea-7f7c98147d10"
      },
      "source": [
        "# Random Forest Classifier \n",
        "print(\"\\n Creating the Random Forest model and training .... \")\n",
        "Jungle=RFC()\n",
        "Jungle.fit(X_enc,y)"
      ],
      "execution_count": 23,
      "outputs": [
        {
          "output_type": "stream",
          "name": "stdout",
          "text": [
            "\n",
            " Creating the Random Forest model and training .... \n"
          ]
        },
        {
          "output_type": "execute_result",
          "data": {
            "text/plain": [
              "RandomForestClassifier(bootstrap=True, ccp_alpha=0.0, class_weight=None,\n",
              "                       criterion='gini', max_depth=None, max_features='auto',\n",
              "                       max_leaf_nodes=None, max_samples=None,\n",
              "                       min_impurity_decrease=0.0, min_impurity_split=None,\n",
              "                       min_samples_leaf=1, min_samples_split=2,\n",
              "                       min_weight_fraction_leaf=0.0, n_estimators=100,\n",
              "                       n_jobs=None, oob_score=False, random_state=None,\n",
              "                       verbose=0, warm_start=False)"
            ]
          },
          "metadata": {},
          "execution_count": 23
        }
      ]
    },
    {
      "cell_type": "markdown",
      "metadata": {
        "id": "uGHfognj5_3Y"
      },
      "source": [
        "> #### Checking the Results and success rate of the trained model "
      ]
    },
    {
      "cell_type": "code",
      "metadata": {
        "colab": {
          "base_uri": "https://localhost:8080/"
        },
        "id": "uRQNqixe5G1a",
        "outputId": "ebddd5e7-e14e-42a2-83a5-e7460b7389e6"
      },
      "source": [
        "# Results\n",
        "print(\"\\n Score level achieved of the Random Forest model \")\n",
        "print(\"Score : \",Jungle.score(X_enc,y))"
      ],
      "execution_count": 24,
      "outputs": [
        {
          "output_type": "stream",
          "name": "stdout",
          "text": [
            "\n",
            " Score level achieved of the Random Forest model \n",
            "Score :  0.95\n"
          ]
        }
      ]
    },
    {
      "cell_type": "markdown",
      "metadata": {
        "id": "7FHqHVxz7CVV"
      },
      "source": [
        "End "
      ]
    }
  ]
}
