{
  "nbformat": 4,
  "nbformat_minor": 0,
  "metadata": {
    "colab": {
      "name": "Task_Code03.ipynb",
      "provenance": [],
      "include_colab_link": true
    },
    "kernelspec": {
      "name": "python3",
      "display_name": "Python 3"
    },
    "language_info": {
      "name": "python"
    }
  },
  "cells": [
    {
      "cell_type": "markdown",
      "metadata": {
        "id": "view-in-github",
        "colab_type": "text"
      },
      "source": [
        "<a href=\"https://colab.research.google.com/github/WolfDev8675/RepoSJX7/blob/Assign5_miscellaneous/Task_GC_03/Task_Code03.ipynb\" target=\"_parent\"><img src=\"https://colab.research.google.com/assets/colab-badge.svg\" alt=\"Open In Colab\"/></a>"
      ]
    },
    {
      "cell_type": "markdown",
      "metadata": {
        "id": "uiIQ6QesIGvN"
      },
      "source": [
        "# Assignment 3:\n",
        "## Problem Statement: Perform Multilinear Regression on the given dataset and give the results."
      ]
    },
    {
      "cell_type": "markdown",
      "metadata": {
        "id": "ShjIeEtVIic0"
      },
      "source": [
        "> ### Question "
      ]
    },
    {
      "cell_type": "code",
      "metadata": {
        "id": "toPfffesI2pi"
      },
      "source": [
        "#!usr/bin/python\n",
        "\n",
        "#Problem Statement:\n",
        "#You are given a real estate dataset.\n",
        "\n",
        "#Real estate is one of those examples that every regression course goes through as it is extremely \n",
        "#easy to understand and there is a (almost always) certain causal relationship to be found.\n",
        "\n",
        "#The data is located in the file: 'real_estate_price_size_year.csv'.\n",
        "\n",
        "#You are expected to create a multiple linear regression (similar to the one in the lecture), using the new data.\n",
        "\n",
        "#In this exercise, the dependent variable is 'price', while the independent variables are 'size' and 'year'.\n",
        "#.."
      ],
      "execution_count": 1,
      "outputs": []
    },
    {
      "cell_type": "markdown",
      "metadata": {
        "id": "skOmE8qHI3qw"
      },
      "source": [
        "> ## Imports of libraries"
      ]
    },
    {
      "cell_type": "code",
      "metadata": {
        "id": "-1sZzkw3I_dE"
      },
      "source": [
        "#imports\n",
        "import pandas as pd\n",
        "import numpy as np\n",
        "import seaborn as sns\n",
        "import matplotlib.pyplot as plt\n",
        "from sklearn.model_selection import train_test_split as tr_te_sp\n",
        "from sklearn.linear_model import LinearRegression as LinReg\n",
        "from sklearn.metrics import confusion_matrix,accuracy_score\n",
        "from sklearn import metrics as mtcs"
      ],
      "execution_count": 2,
      "outputs": []
    },
    {
      "cell_type": "markdown",
      "metadata": {
        "id": "lpYN1H0fJAV5"
      },
      "source": [
        "> ### Loading the Data"
      ]
    },
    {
      "cell_type": "code",
      "metadata": {
        "colab": {
          "base_uri": "https://localhost:8080/"
        },
        "id": "GxDXvaSMJE1F",
        "outputId": "66371c70-2121-49a3-bd16-283c13d08f5c"
      },
      "source": [
        "#Loading the data\n",
        "db=pd.read_csv(\"https://raw.githubusercontent.com/WolfDev8675/RepoSJX7/Assign5_miscellaneous/Task_GC_03/real_estate_price_size_year.csv\")\n",
        "print(\"\\n\\n Head of the database \\n\",db.head())\n",
        "print(\"\\n\\n Information :\\n\");db.info();\n",
        "print(\"\\n\\n Description :\\n\",db.describe())"
      ],
      "execution_count": 3,
      "outputs": [
        {
          "output_type": "stream",
          "name": "stdout",
          "text": [
            "\n",
            "\n",
            " Head of the database \n",
            "         price     size  year\n",
            "0  234314.144   643.09  2015\n",
            "1  228581.528   656.22  2009\n",
            "2  281626.336   487.29  2018\n",
            "3  401255.608  1504.75  2015\n",
            "4  458674.256  1275.46  2009\n",
            "\n",
            "\n",
            " Information :\n",
            "\n",
            "<class 'pandas.core.frame.DataFrame'>\n",
            "RangeIndex: 100 entries, 0 to 99\n",
            "Data columns (total 3 columns):\n",
            " #   Column  Non-Null Count  Dtype  \n",
            "---  ------  --------------  -----  \n",
            " 0   price   100 non-null    float64\n",
            " 1   size    100 non-null    float64\n",
            " 2   year    100 non-null    int64  \n",
            "dtypes: float64(2), int64(1)\n",
            "memory usage: 2.5 KB\n",
            "\n",
            "\n",
            " Description :\n",
            "                price         size         year\n",
            "count     100.000000   100.000000   100.000000\n",
            "mean   292289.470160   853.024200  2012.600000\n",
            "std     77051.727525   297.941951     4.729021\n",
            "min    154282.128000   479.750000  2006.000000\n",
            "25%    234280.148000   643.330000  2009.000000\n",
            "50%    280590.716000   696.405000  2015.000000\n",
            "75%    335723.696000  1029.322500  2018.000000\n",
            "max    500681.128000  1842.510000  2018.000000\n"
          ]
        }
      ]
    },
    {
      "cell_type": "markdown",
      "metadata": {
        "id": "Zwzquja8JKF8"
      },
      "source": [
        "> ### Separating Data into X and Y components "
      ]
    },
    {
      "cell_type": "code",
      "metadata": {
        "id": "RkytBmLhJKvS"
      },
      "source": [
        "#Data division \n",
        "X=db[[\"size\",\"year\"]].values #independent variables\n",
        "Y=db[[\"price\"]].values  #dependent variables \n",
        "X_train, X_test, y_train, y_test= tr_te_sp(X,Y, test_size=0.2, random_state=0)"
      ],
      "execution_count": 4,
      "outputs": []
    },
    {
      "cell_type": "markdown",
      "metadata": {
        "id": "2a7C4h5_JWiK"
      },
      "source": [
        "> ### Creating the Model and training it"
      ]
    },
    {
      "cell_type": "code",
      "metadata": {
        "colab": {
          "base_uri": "https://localhost:8080/"
        },
        "id": "CQ_2oBFNJMJP",
        "outputId": "b8ef3c75-dd82-40a4-f649-a097715f77cf"
      },
      "source": [
        "#Model creation\n",
        "print(\"\\n\\n Creating and Training Model .... \") \n",
        "module=LinReg()\n",
        "module.fit(X_train,y_train)"
      ],
      "execution_count": 5,
      "outputs": [
        {
          "output_type": "stream",
          "name": "stdout",
          "text": [
            "\n",
            "\n",
            " Creating and Training Model .... \n"
          ]
        },
        {
          "output_type": "execute_result",
          "data": {
            "text/plain": [
              "LinearRegression(copy_X=True, fit_intercept=True, n_jobs=None, normalize=False)"
            ]
          },
          "metadata": {},
          "execution_count": 5
        }
      ]
    },
    {
      "cell_type": "markdown",
      "metadata": {
        "id": "n4Tj-VwzJXPl"
      },
      "source": [
        "> ### Coefficients obtained from the training fit "
      ]
    },
    {
      "cell_type": "code",
      "metadata": {
        "colab": {
          "base_uri": "https://localhost:8080/"
        },
        "id": "icks5csPJN4u",
        "outputId": "0390a66e-f56f-4c0e-be94-9e8adc33a8ba"
      },
      "source": [
        "#Coefficients\n",
        "coeffs=module.coef_\n",
        "print(\"\\n\\n Coefficients: \",coeffs)\n",
        "print(\"\\n Equation of model: \\n price=\",coeffs[0,0],\"* size + \",coeffs[0,1],\"* year.\")"
      ],
      "execution_count": 6,
      "outputs": [
        {
          "output_type": "stream",
          "name": "stdout",
          "text": [
            "\n",
            "\n",
            " Coefficients:  [[ 220.19757452 1797.24559323]]\n",
            "\n",
            " Equation of model: \n",
            " price= 220.1975745159363 * size +  1797.2455932348073 * year.\n"
          ]
        }
      ]
    },
    {
      "cell_type": "markdown",
      "metadata": {
        "id": "oFpHS4i8JXva"
      },
      "source": [
        "> ### Prediction of the Test set results "
      ]
    },
    {
      "cell_type": "code",
      "metadata": {
        "id": "gorJOVHtJSCZ"
      },
      "source": [
        "#Predict Test results \n",
        "y_pred=module.predict(X_test)\n",
        "#np.set_printoptions(precision=2)\n",
        "#print(np.concatenate((y_pred.reshape(len(y_pred),1),y_test.reshape(len(y_test),1)),1))"
      ],
      "execution_count": 7,
      "outputs": []
    },
    {
      "cell_type": "markdown",
      "metadata": {
        "id": "IYSjV6fgJYK7"
      },
      "source": [
        "> ### Evaluating the Model parameters for the errors "
      ]
    },
    {
      "cell_type": "code",
      "metadata": {
        "id": "N0yp85u69Y6z",
        "colab": {
          "base_uri": "https://localhost:8080/"
        },
        "outputId": "97e18b1a-d824-431e-befb-9110b1b0198f"
      },
      "source": [
        "#Evaluation of the Model\n",
        "print(\"\\n\\n Error Evaluation \")\n",
        "print(\" Mean Absolute Error :: \",mtcs.mean_absolute_error(y_test,y_pred))\n",
        "print(\" Mean Squared Error  :: \",mtcs.mean_squared_error(y_test,y_pred))\n",
        "print(\" Root Mean Squared Error :: \",np.sqrt(mtcs.mean_squared_error(y_test,y_pred)))\n",
        "\n",
        "\n",
        "#**\n",
        "# ** End of code \n",
        "#** "
      ],
      "execution_count": 8,
      "outputs": [
        {
          "output_type": "stream",
          "name": "stdout",
          "text": [
            "\n",
            "\n",
            " Error Evaluation \n",
            " Mean Absolute Error ::  34484.48198849318\n",
            " Mean Squared Error  ::  1682475888.8176327\n",
            " Root Mean Squared Error ::  41017.99469522654\n"
          ]
        }
      ]
    },
    {
      "cell_type": "markdown",
      "metadata": {
        "id": "ETDTqT4PJYxw"
      },
      "source": [
        "END"
      ]
    }
  ]
}