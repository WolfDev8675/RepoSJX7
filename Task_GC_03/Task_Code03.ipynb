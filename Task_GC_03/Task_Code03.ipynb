{
  "nbformat": 4,
  "nbformat_minor": 0,
  "metadata": {
    "colab": {
      "name": "Untitled15.ipynb",
      "private_outputs": true,
      "provenance": [],
      "authorship_tag": "ABX9TyMvFG+L9vKQ0Ix5Ch7ZS94J",
      "include_colab_link": true
    },
    "kernelspec": {
      "name": "python3",
      "display_name": "Python 3"
    },
    "language_info": {
      "name": "python"
    }
  },
  "cells": [
    {
      "cell_type": "markdown",
      "metadata": {
        "id": "view-in-github",
        "colab_type": "text"
      },
      "source": [
        "<a href=\"https://colab.research.google.com/github/WolfDev8675/RepoSJX7/blob/Assign5_miscellaneous/Task_GC_03/Task_Code03.ipynb\" target=\"_parent\"><img src=\"https://colab.research.google.com/assets/colab-badge.svg\" alt=\"Open In Colab\"/></a>"
      ]
    },
    {
      "cell_type": "code",
      "metadata": {
        "id": "N0yp85u69Y6z"
      },
      "source": [
        "#!usr/bin/python\n",
        "\n",
        "#Problem Statement:\n",
        "#You are given a real estate dataset.\n",
        "\n",
        "#Real estate is one of those examples that every regression course goes through as it is extremely \n",
        "#easy to understand and there is a (almost always) certain causal relationship to be found.\n",
        "\n",
        "#The data is located in the file: 'real_estate_price_size_year.csv'.\n",
        "\n",
        "#You are expected to create a multiple linear regression (similar to the one in the lecture), using the new data.\n",
        "\n",
        "#In this exercise, the dependent variable is 'price', while the independent variables are 'size' and 'year'.\n",
        "#..\n",
        "\n",
        "#imports\n",
        "import pandas as pd\n",
        "import numpy as np\n",
        "import seaborn as sns\n",
        "import matplotlib.pyplot as plt\n",
        "from sklearn.model_selection import train_test_split as tr_te_sp\n",
        "from sklearn.linear_model import LinearRegression as LinReg\n",
        "from sklearn.metrics import confusion_matrix,accuracy_score\n",
        "from sklearn import metrics as mtcs\n",
        "\n",
        "#Loading the data\n",
        "db=pd.read_csv(\"https://raw.githubusercontent.com/WolfDev8675/RepoSJX7/Assign5_miscellaneous/Task_GC_03/real_estate_price_size_year.csv\")\n",
        "print(\"\\n\\n Head of the database \\n\",db.head())\n",
        "print(\"\\n\\n Information :\\n\");db.info();\n",
        "print(\"\\n\\n Description :\\n\",db.describe())\n",
        "\n",
        "#Data division \n",
        "X=db[[\"size\",\"year\"]].values #independent variables\n",
        "Y=db[[\"price\"]].values  #dependent variables \n",
        "X_train, X_test, y_train, y_test= tr_te_sp(X,Y, test_size=0.2, random_state=0)\n",
        "\n",
        "#Model creation\n",
        "print(\"\\n\\n Creating and Training Model .... \") \n",
        "module=LinReg()\n",
        "module.fit(X_train,y_train)\n",
        "\n",
        "#Coefficients\n",
        "coeffs=module.coef_\n",
        "print(\"\\n\\n Coefficients: \",coeffs)\n",
        "print(\"\\n Equation of model: \\n price=\",coeffs[0,0],\"* size + \",coeffs[0,1],\"* year.\")\n",
        "\n",
        "#Predict Test results \n",
        "y_pred=module.predict(X_test)\n",
        "#np.set_printoptions(precision=2)\n",
        "#print(np.concatenate((y_pred.reshape(len(y_pred),1),y_test.reshape(len(y_test),1)),1))\n",
        "\n",
        "#Evaluation of the Model\n",
        "print(\"\\n\\n Error Evaluation \")\n",
        "print(\" Mean Absolute Error :: \",mtcs.mean_absolute_error(y_test,y_pred))\n",
        "print(\" Mean Squared Error  :: \",mtcs.mean_squared_error(y_test,y_pred))\n",
        "print(\" Root Mean Squared Error :: \",np.sqrt(mtcs.mean_squared_error(y_test,y_pred)))\n",
        "\n",
        "\n",
        "#**\n",
        "# ** End of code \n",
        "#** "
      ],
      "execution_count": null,
      "outputs": []
    }
  ]
}