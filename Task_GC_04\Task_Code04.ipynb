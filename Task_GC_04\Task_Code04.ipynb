{
  "nbformat": 4,
  "nbformat_minor": 0,
  "metadata": {
    "colab": {
      "name": "Task_Code04.ipynb",
      "provenance": [],
      "include_colab_link": true
    },
    "kernelspec": {
      "name": "python3",
      "display_name": "Python 3"
    },
    "language_info": {
      "name": "python"
    }
  },
  "cells": [
    {
      "cell_type": "markdown",
      "metadata": {
        "id": "view-in-github",
        "colab_type": "text"
      },
      "source": [
        "<a href=\"https://colab.research.google.com/github/WolfDev8675/RepoSJX7/blob/Assign5_miscellaneous/Task_GC_04%5CTask_Code04.ipynb\" target=\"_parent\"><img src=\"https://colab.research.google.com/assets/colab-badge.svg\" alt=\"Open In Colab\"/></a>"
      ]
    },
    {
      "cell_type": "markdown",
      "metadata": {
        "id": "O9BjSbxZAA3_"
      },
      "source": [
        "# Assignment 5:\n",
        "## Problem Statement: Solve by using Decision Trees the solution to the data given"
      ]
    },
    {
      "cell_type": "markdown",
      "metadata": {
        "id": "2kY85mz6AYQD"
      },
      "source": [
        "> ### Question"
      ]
    },
    {
      "cell_type": "code",
      "metadata": {
        "id": "vqvPcY__Aet6"
      },
      "source": [
        "#!usr/bin/python\n",
        "\n",
        "#Problem Statement:\n",
        "# Solve by using Decision Trees the solution to the data given "
      ],
      "execution_count": 1,
      "outputs": []
    },
    {
      "cell_type": "markdown",
      "metadata": {
        "id": "Cs7DfKKzAiwr"
      },
      "source": [
        "> ### Imports"
      ]
    },
    {
      "cell_type": "code",
      "metadata": {
        "id": "dsD79dMOAlnv"
      },
      "source": [
        "#imports\n",
        "import pandas as pd\n",
        "import numpy as np\n",
        "import seaborn as sns\n",
        "import matplotlib.pyplot as plt\n",
        "from sklearn.tree import DecisionTreeClassifier as DecTree\n",
        "from sklearn.tree import plot_tree\n",
        "from sklearn.preprocessing import OneHotEncoder as OHEnc"
      ],
      "execution_count": 2,
      "outputs": []
    },
    {
      "cell_type": "markdown",
      "metadata": {
        "id": "tf-ppIwMAnbj"
      },
      "source": [
        "> ### Data Imports"
      ]
    },
    {
      "cell_type": "code",
      "metadata": {
        "id": "BsoWpQMMAt4u",
        "colab": {
          "base_uri": "https://localhost:8080/"
        },
        "outputId": "2eda6c9f-b522-43a0-c5e4-cb5791dff0fa"
      },
      "source": [
        "#Import Data\n",
        "dbs=pd.read_csv(\"https://raw.githubusercontent.com/WolfDev8675/RepoSJX7/Assign5_miscellaneous/Task_GC_04/data.csv\")\n",
        "print(\"\\n\\n Head of the data \\n\",dbs.head(5));\n",
        "print(\"\\n\\n Info of Data : \\n\");dbs.info();"
      ],
      "execution_count": 3,
      "outputs": [
        {
          "output_type": "stream",
          "name": "stdout",
          "text": [
            "\n",
            "\n",
            " Head of the data \n",
            "   Gender Car Type   Shirt Size Class\n",
            "0      M   Family        Small    C0\n",
            "1      M   Sports       Medium    C0\n",
            "2      M   Sports       Medium    C0\n",
            "3      M   Sports        Large    C0\n",
            "4      M   Sports  Extra Large    C0\n",
            "\n",
            "\n",
            " Info of Data : \n",
            "\n",
            "<class 'pandas.core.frame.DataFrame'>\n",
            "RangeIndex: 20 entries, 0 to 19\n",
            "Data columns (total 4 columns):\n",
            " #   Column      Non-Null Count  Dtype \n",
            "---  ------      --------------  ----- \n",
            " 0   Gender      20 non-null     object\n",
            " 1   Car Type    20 non-null     object\n",
            " 2   Shirt Size  20 non-null     object\n",
            " 3   Class       20 non-null     object\n",
            "dtypes: object(4)\n",
            "memory usage: 768.0+ bytes\n"
          ]
        }
      ]
    },
    {
      "cell_type": "markdown",
      "metadata": {
        "id": "YrpTlVlPAv3n"
      },
      "source": [
        "> ### Converting Specific fields to required types"
      ]
    },
    {
      "cell_type": "code",
      "metadata": {
        "id": "cUuumIFYA6Uu"
      },
      "source": [
        "# Data conversion \n",
        "dbs['Class']=dbs['Class'].astype('category') # Converting classifier field to categorical"
      ],
      "execution_count": 4,
      "outputs": []
    },
    {
      "cell_type": "markdown",
      "metadata": {
        "id": "IIqICMVhA9zC"
      },
      "source": [
        "> ### Separating fields to X and Y variants"
      ]
    },
    {
      "cell_type": "code",
      "metadata": {
        "id": "ax6t7OJ1BGqQ",
        "colab": {
          "base_uri": "https://localhost:8080/"
        },
        "outputId": "8952ff65-12f8-419a-8e30-72de5f6a6974"
      },
      "source": [
        "# Data distribution \n",
        "print(\"\\n\\n Segregating  Data to the dependent and independent types ....\")\n",
        "X=dbs[[\"Gender\",\"Car Type\",\"Shirt Size\"]]  # Independent variables \n",
        "y=dbs[\"Class\"].cat.codes  # Dependent variables (categorical coded)"
      ],
      "execution_count": 5,
      "outputs": [
        {
          "output_type": "stream",
          "name": "stdout",
          "text": [
            "\n",
            "\n",
            " Segregating  Data to the dependent and independent types ....\n"
          ]
        }
      ]
    },
    {
      "cell_type": "markdown",
      "metadata": {
        "id": "xXDsXcKqBKT_"
      },
      "source": [
        ">  ### Encoding Categoricals "
      ]
    },
    {
      "cell_type": "code",
      "metadata": {
        "id": "JOMiqgE2BQqU",
        "colab": {
          "base_uri": "https://localhost:8080/"
        },
        "outputId": "64d4c678-c392-46e0-82a0-e7dbaba25552"
      },
      "source": [
        "# One Hot Encoding to fit data \n",
        "print(\"\\n Encoding ....\")\n",
        "ohec=OHEnc()\n",
        "X_enc=ohec.fit_transform(X)"
      ],
      "execution_count": 6,
      "outputs": [
        {
          "output_type": "stream",
          "name": "stdout",
          "text": [
            "\n",
            " Encoding ....\n"
          ]
        }
      ]
    },
    {
      "cell_type": "markdown",
      "metadata": {
        "id": "1_AkGKxDBWHI"
      },
      "source": [
        "> ### Decision Tree creation and training"
      ]
    },
    {
      "cell_type": "code",
      "metadata": {
        "id": "mXPckzYPBdfh",
        "colab": {
          "base_uri": "https://localhost:8080/"
        },
        "outputId": "efa0378d-86ac-4067-9174-4af39af6f6a8"
      },
      "source": [
        "# Decisions \n",
        "print(\"\\n Creating the Tree model and training .... \")\n",
        "clfTree=DecTree()\n",
        "clfTree.fit(X_enc,y)"
      ],
      "execution_count": 7,
      "outputs": [
        {
          "output_type": "stream",
          "name": "stdout",
          "text": [
            "\n",
            " Creating the Tree model and training .... \n"
          ]
        },
        {
          "output_type": "execute_result",
          "data": {
            "text/plain": [
              "DecisionTreeClassifier(ccp_alpha=0.0, class_weight=None, criterion='gini',\n",
              "                       max_depth=None, max_features=None, max_leaf_nodes=None,\n",
              "                       min_impurity_decrease=0.0, min_impurity_split=None,\n",
              "                       min_samples_leaf=1, min_samples_split=2,\n",
              "                       min_weight_fraction_leaf=0.0, presort='deprecated',\n",
              "                       random_state=None, splitter='best')"
            ]
          },
          "metadata": {},
          "execution_count": 7
        }
      ]
    },
    {
      "cell_type": "markdown",
      "metadata": {
        "id": "HEEW9AeZBejQ"
      },
      "source": [
        "> ### Defining results"
      ]
    },
    {
      "cell_type": "code",
      "metadata": {
        "id": "8EDgfY3zsOg2",
        "colab": {
          "base_uri": "https://localhost:8080/",
          "height": 521
        },
        "outputId": "9304d31a-f85c-4fb6-cecd-a99fd99a8422"
      },
      "source": [
        "# Tree Details\n",
        "print(\"\\n\\n Plot of the Finalized tree \")\n",
        "fig=plt.figure(figsize=(15,8))\n",
        "plot_tree(clfTree,class_names=['C0','C1'])\n",
        "plt.show()\n",
        "\n",
        "#..\n",
        "# End of Code \n",
        "#.. "
      ],
      "execution_count": 8,
      "outputs": [
        {
          "output_type": "stream",
          "name": "stdout",
          "text": [
            "\n",
            "\n",
            " Plot of the Finalized tree \n"
          ]
        },
        {
          "output_type": "display_data",
          "data": {
            "image/png": "[encoded data removed]",
            "text/plain": [
              "<Figure size 1080x576 with 1 Axes>"
            ]
          },
          "metadata": {
            "needs_background": "light"
          }
        }
      ]
    },
    {
      "cell_type": "markdown",
      "metadata": {
        "id": "OKoUG1gQBnMO"
      },
      "source": [
        "END "
      ]
    }
  ]
}