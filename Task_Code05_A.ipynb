{
  "nbformat": 4,
  "nbformat_minor": 0,
  "metadata": {
    "colab": {
      "name": "Untitled18.ipynb",
      "provenance": [],
      "authorship_tag": "ABX9TyMjMqp3KVxHvBFqFu4G1YnW",
      "include_colab_link": true
    },
    "kernelspec": {
      "name": "python3",
      "display_name": "Python 3"
    },
    "language_info": {
      "name": "python"
    },
    "accelerator": "TPU"
  },
  "cells": [
    {
      "cell_type": "markdown",
      "metadata": {
        "id": "view-in-github",
        "colab_type": "text"
      },
      "source": [
        "<a href=\"https://colab.research.google.com/github/WolfDev8675/RepoSJX7/blob/Assign5_miscellaneous/Task_Code05_A.ipynb\" target=\"_parent\"><img src=\"https://colab.research.google.com/assets/colab-badge.svg\" alt=\"Open In Colab\"/></a>"
      ]
    },
    {
      "cell_type": "markdown",
      "metadata": {
        "id": "hxdY6lD54UKZ"
      },
      "source": [
        "# Assignment 5:\n",
        "## Problem Statement: Convert the decision tree program to model Linear calcification and Random Forest and report  your observation\n",
        "### Part problem: Using Perceptron Linear Classification model "
      ]
    },
    {
      "cell_type": "markdown",
      "metadata": {
        "id": "e5K8bWzj5N3-"
      },
      "source": [
        "> ####  Question"
      ]
    },
    {
      "cell_type": "code",
      "metadata": {
        "id": "J72lg7qEA8H1"
      },
      "source": [
        "#!usr/bin/python\n",
        "\n",
        "#Problem Statement:\n",
        "#Convert the decision tree program to model Linear calcification and Random Forest and report  your observation\n",
        "# Part problem: Using Perceptron Linear Classification model "
      ],
      "execution_count": 9,
      "outputs": []
    },
    {
      "cell_type": "markdown",
      "metadata": {
        "id": "Cji6efds5fDf"
      },
      "source": [
        "> #### Import of the essential libraries"
      ]
    },
    {
      "cell_type": "code",
      "metadata": {
        "id": "xgmjhI704tEv"
      },
      "source": [
        "#imports\n",
        "import pandas as pd\n",
        "import numpy as np\n",
        "import seaborn as sns\n",
        "import matplotlib.pyplot as plt\n",
        "from sklearn.linear_model import Perceptron as A_Neur\n",
        "from sklearn.ensemble import RandomForestClassifier as RFC\n",
        "from sklearn.preprocessing import OneHotEncoder as OHEnc"
      ],
      "execution_count": 10,
      "outputs": []
    },
    {
      "cell_type": "markdown",
      "metadata": {
        "id": "qgBZnnaz5omd"
      },
      "source": [
        "> #### Data imports"
      ]
    },
    {
      "cell_type": "code",
      "metadata": {
        "colab": {
          "base_uri": "https://localhost:8080/"
        },
        "id": "BgFAqdzp4wP0",
        "outputId": "318f6a82-5492-412a-90a4-2e06db095944"
      },
      "source": [
        "#Import Data\n",
        "dbs=pd.read_csv(\"https://raw.githubusercontent.com/WolfDev8675/RepoSJX7/Assign5_miscellaneous/Task_GC_05/data.csv\")\n",
        "print(\"\\n\\n Head of the data \\n\",dbs.head(5));\n",
        "print(\"\\n\\n Info of Data : \\n\");dbs.info();"
      ],
      "execution_count": 11,
      "outputs": [
        {
          "output_type": "stream",
          "name": "stdout",
          "text": [
            "\n",
            "\n",
            " Head of the data \n",
            "   Gender Car Type   Shirt Size Class\n",
            "0      M   Family        Small    C0\n",
            "1      M   Sports       Medium    C0\n",
            "2      M   Sports       Medium    C0\n",
            "3      M   Sports        Large    C0\n",
            "4      M   Sports  Extra Large    C0\n",
            "\n",
            "\n",
            " Info of Data : \n",
            "\n",
            "<class 'pandas.core.frame.DataFrame'>\n",
            "RangeIndex: 20 entries, 0 to 19\n",
            "Data columns (total 4 columns):\n",
            " #   Column      Non-Null Count  Dtype \n",
            "---  ------      --------------  ----- \n",
            " 0   Gender      20 non-null     object\n",
            " 1   Car Type    20 non-null     object\n",
            " 2   Shirt Size  20 non-null     object\n",
            " 3   Class       20 non-null     object\n",
            "dtypes: object(4)\n",
            "memory usage: 768.0+ bytes\n"
          ]
        }
      ]
    },
    {
      "cell_type": "markdown",
      "metadata": {
        "id": "SvUp8aAu5x5R"
      },
      "source": [
        "> #### Converting required fields to specific types"
      ]
    },
    {
      "cell_type": "code",
      "metadata": {
        "id": "8Upkg0mO41Gf"
      },
      "source": [
        "# Data conversion \n",
        "dbs['Class']=dbs['Class'].astype('category') # Converting classifier field to categorical"
      ],
      "execution_count": 12,
      "outputs": []
    },
    {
      "cell_type": "markdown",
      "metadata": {
        "id": "-CbfODDY56ev"
      },
      "source": [
        "> #### Separating data into the X and Y variables "
      ]
    },
    {
      "cell_type": "code",
      "metadata": {
        "colab": {
          "base_uri": "https://localhost:8080/"
        },
        "id": "0kGNlxSn460m",
        "outputId": "976c4f27-667d-4581-d4ba-cceb15f2c057"
      },
      "source": [
        "# Data distribution \n",
        "print(\"\\n\\n Segregating  Data to the dependent and independent types ....\")\n",
        "X=dbs[[\"Gender\",\"Car Type\",\"Shirt Size\"]]  # Independent variables \n",
        "y=dbs[\"Class\"].cat.codes  # Dependent variables (categorical coded)"
      ],
      "execution_count": 13,
      "outputs": [
        {
          "output_type": "stream",
          "name": "stdout",
          "text": [
            "\n",
            "\n",
            " Segregating  Data to the dependent and independent types ....\n"
          ]
        }
      ]
    },
    {
      "cell_type": "markdown",
      "metadata": {
        "id": "XDfXyCuu5-WK"
      },
      "source": [
        "> #### Encoding the Categorical Values "
      ]
    },
    {
      "cell_type": "code",
      "metadata": {
        "colab": {
          "base_uri": "https://localhost:8080/"
        },
        "id": "_S7aen_e4_vY",
        "outputId": "e90ed2b1-13e9-4463-e49c-45c485f4cc2b"
      },
      "source": [
        "# One Hot Encoding to fit data \n",
        "print(\"\\n Encoding ....\")\n",
        "ohec=OHEnc()\n",
        "X_enc=ohec.fit_transform(X)"
      ],
      "execution_count": 14,
      "outputs": [
        {
          "output_type": "stream",
          "name": "stdout",
          "text": [
            "\n",
            " Encoding ....\n"
          ]
        }
      ]
    },
    {
      "cell_type": "markdown",
      "metadata": {
        "id": "cfoHzwZR5_OS"
      },
      "source": [
        "> #### Creating and training the Perceptrons"
      ]
    },
    {
      "cell_type": "code",
      "metadata": {
        "colab": {
          "base_uri": "https://localhost:8080/"
        },
        "id": "c_Uz8iJk5DEU",
        "outputId": "0938a71f-f37d-4b4f-aa5b-3e91a66799f7"
      },
      "source": [
        "# Perceptrons \n",
        "print(\"\\n Creating the Perceptron Linear model and training .... \")\n",
        "neurs=A_Neur()\n",
        "neurs.fit(X_enc,y) "
      ],
      "execution_count": 15,
      "outputs": [
        {
          "output_type": "stream",
          "name": "stdout",
          "text": [
            "\n",
            " Creating the Perceptron Linear model and training .... \n"
          ]
        },
        {
          "output_type": "execute_result",
          "data": {
            "text/plain": [
              "Perceptron(alpha=0.0001, class_weight=None, early_stopping=False, eta0=1.0,\n",
              "           fit_intercept=True, max_iter=1000, n_iter_no_change=5, n_jobs=None,\n",
              "           penalty=None, random_state=0, shuffle=True, tol=0.001,\n",
              "           validation_fraction=0.1, verbose=0, warm_start=False)"
            ]
          },
          "metadata": {},
          "execution_count": 15
        }
      ]
    },
    {
      "cell_type": "markdown",
      "metadata": {
        "id": "uGHfognj5_3Y"
      },
      "source": [
        "> #### Checking the Results and success rate of the trained model "
      ]
    },
    {
      "cell_type": "code",
      "metadata": {
        "colab": {
          "base_uri": "https://localhost:8080/"
        },
        "id": "uRQNqixe5G1a",
        "outputId": "8b508ca9-9c33-430d-e260-8d4aff8de5cb"
      },
      "source": [
        "# Results\n",
        "print(\"\\n Score level achieved of the Perceptron Linear model \")\n",
        "print(\"Score : \",neurs.score(X_enc,y))"
      ],
      "execution_count": 16,
      "outputs": [
        {
          "output_type": "stream",
          "name": "stdout",
          "text": [
            "\n",
            " Score level achieved of the Perceptron Linear model \n",
            "Score :  0.8\n"
          ]
        }
      ]
    },
    {
      "cell_type": "markdown",
      "metadata": {
        "id": "7FHqHVxz7CVV"
      },
      "source": [
        "End "
      ]
    }
  ]
}