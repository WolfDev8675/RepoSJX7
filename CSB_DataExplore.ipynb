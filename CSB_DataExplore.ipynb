{
  "nbformat": 4,
  "nbformat_minor": 0,
  "metadata": {
    "colab": {
      "name": "CSB_DataExplore.ipynb",
      "private_outputs": true,
      "provenance": [],
      "collapsed_sections": [],
      "authorship_tag": "ABX9TyNNHAspdCQQBpsg4xusZHUl",
      "include_colab_link": true
    },
    "kernelspec": {
      "name": "python3",
      "display_name": "Python 3"
    },
    "language_info": {
      "name": "python"
    },
    "accelerator": "GPU"
  },
  "cells": [
    {
      "cell_type": "markdown",
      "metadata": {
        "id": "view-in-github",
        "colab_type": "text"
      },
      "source": [
        "<a href=\"https://colab.research.google.com/github/WolfDev8675/RepoSJX7/blob/CaseStudy_backend/CSB_DataExplore.ipynb\" target=\"_parent\"><img src=\"https://colab.research.google.com/assets/colab-badge.svg\" alt=\"Open In Colab\"/></a>"
      ]
    },
    {
      "cell_type": "markdown",
      "metadata": {
        "id": "040pRShJjqe3"
      },
      "source": [
        "# _Raw Data study and access with types and variations_"
      ]
    },
    {
      "cell_type": "markdown",
      "metadata": {
        "id": "Aevfkg1ikE2z"
      },
      "source": [
        "***Imports***"
      ]
    },
    {
      "cell_type": "code",
      "metadata": {
        "id": "LL7IKawQjI88"
      },
      "source": [
        "import pandas as pd\n",
        "import numpy as np\n",
        "import matplotlib.pyplot as plots"
      ],
      "execution_count": null,
      "outputs": []
    },
    {
      "cell_type": "markdown",
      "metadata": {
        "id": "1QHSgYgejpBS"
      },
      "source": [
        "***Data access***"
      ]
    },
    {
      "cell_type": "code",
      "metadata": {
        "id": "UVSqUmFFkVfm"
      },
      "source": [
        "dtx=pd.read_csv(\"https://raw.githubusercontent.com/WolfDev8675/RepoSJX7/CaseStudy_backend/Data_static/HistoricalData_1628951636399.csv\")\n",
        "print(dtx.head(),\"\\n\\n\")\n",
        "print(dtx.info())"
      ],
      "execution_count": null,
      "outputs": []
    },
    {
      "cell_type": "markdown",
      "metadata": {
        "id": "QKbx_WbmlDQ5"
      },
      "source": [
        "***Plot for Close and High vs Date***"
      ]
    },
    {
      "cell_type": "code",
      "metadata": {
        "id": "HuRP1lDWlSKN"
      },
      "source": [
        "x=dtx.Date;\n",
        "y=dtx['Close/Last'];\n",
        "plots.plot(x,y)\n",
        "plots.show()"
      ],
      "execution_count": null,
      "outputs": []
    }
  ]
}