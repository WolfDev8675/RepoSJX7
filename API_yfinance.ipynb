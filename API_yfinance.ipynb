{
  "nbformat": 4,
  "nbformat_minor": 0,
  "metadata": {
    "colab": {
      "name": "API_yfinance.ipynb",
      "private_outputs": true,
      "provenance": [],
      "authorship_tag": "ABX9TyNW5vE98CweebblN+2sJ4ez",
      "include_colab_link": true
    },
    "kernelspec": {
      "name": "python3",
      "display_name": "Python 3"
    },
    "language_info": {
      "name": "python"
    }
  },
  "cells": [
    {
      "cell_type": "markdown",
      "metadata": {
        "id": "view-in-github",
        "colab_type": "text"
      },
      "source": [
        "<a href=\"https://colab.research.google.com/github/WolfDev8675/RepoSJX7/blob/CaseStudy_backend/API_yfinance.ipynb\" target=\"_parent\"><img src=\"https://colab.research.google.com/assets/colab-badge.svg\" alt=\"Open In Colab\"/></a>"
      ]
    },
    {
      "cell_type": "markdown",
      "metadata": {
        "id": "Eqoe44OYyHBY"
      },
      "source": [
        "Pre-run installation"
      ]
    },
    {
      "cell_type": "code",
      "metadata": {
        "id": "w6EAGOJ1xrgB"
      },
      "source": [
        "!pip install yfinance"
      ],
      "execution_count": null,
      "outputs": []
    },
    {
      "cell_type": "markdown",
      "metadata": {
        "id": "63RgnHWpyTqZ"
      },
      "source": [
        "***Imports***"
      ]
    },
    {
      "cell_type": "code",
      "metadata": {
        "id": "PWposPrjykfq"
      },
      "source": [
        "import pandas as pd\n",
        "import yfinance as yf\n"
      ],
      "execution_count": null,
      "outputs": []
    },
    {
      "cell_type": "markdown",
      "metadata": {
        "id": "Hd_yKjmpzHFa"
      },
      "source": [
        "*Data access*"
      ]
    },
    {
      "cell_type": "code",
      "metadata": {
        "id": "-g9FWIopzMOs"
      },
      "source": [
        "BrentCrude=yf.Ticker(\"BZ=F\")\n",
        "print(BrentCrude.info)\n",
        "DTX_BrentC=BrentCrude.history(period=\"5y\")\n",
        "print(DTX_BrentC)"
      ],
      "execution_count": null,
      "outputs": []
    }
  ]
}