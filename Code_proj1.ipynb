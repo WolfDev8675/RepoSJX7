{
  "nbformat": 4,
  "nbformat_minor": 0,
  "metadata": {
    "colab": {
      "name": "Untitled19.ipynb",
      "private_outputs": true,
      "provenance": [],
      "authorship_tag": "ABX9TyP/yvWj9FkWeRBO/QznRG/B",
      "include_colab_link": true
    },
    "kernelspec": {
      "name": "python3",
      "display_name": "Python 3"
    },
    "language_info": {
      "name": "python"
    },
    "accelerator": "GPU"
  },
  "cells": [
    {
      "cell_type": "markdown",
      "metadata": {
        "id": "view-in-github",
        "colab_type": "text"
      },
      "source": [
        "<a href=\"https://colab.research.google.com/github/WolfDev8675/RepoSJX7/blob/Assign5_1/Code_proj1.ipynb\" target=\"_parent\"><img src=\"https://colab.research.google.com/assets/colab-badge.svg\" alt=\"Open In Colab\"/></a>"
      ]
    },
    {
      "cell_type": "markdown",
      "metadata": {
        "id": "dfm71tf58MMp"
      },
      "source": [
        "# ***Board Game Review Project***"
      ]
    },
    {
      "cell_type": "markdown",
      "metadata": {
        "id": "8FbdCgbt8bEA"
      },
      "source": [
        "###*Primaries*"
      ]
    },
    {
      "cell_type": "code",
      "metadata": {
        "id": "U9C5zd_y2UKd"
      },
      "source": [
        "#!usr/bin/python\n",
        "\n",
        "''' Board Game Review Project ''' \n",
        "# \n",
        "\n",
        "#imports \n",
        "import pandas as pd\n",
        "import numpy as np\n",
        "import seaborn as sns\n",
        "import matplotlib.pyplot as plts\n",
        "import warnings \n",
        "from sklearn.model_selection import train_test_split\n",
        "from sklearn.linear_model import LinearRegression as LR\n",
        "from sklearn.linear_model import Ridge as R2\n",
        "from sklearn.linear_model import BayesianRidge as BR2\n",
        "from sklearn.svm import SVR \n",
        "from sklearn.tree import DecisionTreeRegressor as DTR\n",
        "from sklearn.ensemble import RandomForestRegressor as RFT"
      ],
      "execution_count": null,
      "outputs": []
    },
    {
      "cell_type": "markdown",
      "metadata": {
        "id": "1mj_ftRA8JPp"
      },
      "source": [
        "###*Presetting viewer*"
      ]
    },
    {
      "cell_type": "code",
      "metadata": {
        "id": "LysBoCDt2rOJ"
      },
      "source": [
        "# Presetting viewer \n",
        "pd.set_option('display.max_columns', None)"
      ],
      "execution_count": null,
      "outputs": []
    },
    {
      "cell_type": "markdown",
      "metadata": {
        "id": "SzfvFdOZ8HUQ"
      },
      "source": [
        "##*Loading dataset: data-specs, size and contents*"
      ]
    },
    {
      "cell_type": "code",
      "metadata": {
        "id": "90lSdUMb9Dtq"
      },
      "source": [
        "# Loading dataset: data-specs, size and contents\n",
        "d_set=pd.read_csv(\"https://raw.githubusercontent.com/WolfDev8675/RepoSJX7/Assign5_1/data/games.csv\")\n",
        "#print(' Dataset example: \\n')\n",
        "d_set.head(20)"
      ],
      "execution_count": null,
      "outputs": []
    },
    {
      "cell_type": "code",
      "metadata": {
        "id": "cSDcgbpQ2v6E"
      },
      "source": [
        "print('_'.center(70,'_'))\n",
        "print('\\n\\n Content information :: \\n');d_set.info();print('_'.center(70,'_'));\n",
        "print('\\n');print('x'.center(70,'*'))"
      ],
      "execution_count": null,
      "outputs": []
    },
    {
      "cell_type": "markdown",
      "metadata": {
        "id": "2Hxc-x398Dsu"
      },
      "source": [
        "##*Noise and Vaccancy Study*"
      ]
    },
    {
      "cell_type": "code",
      "metadata": {
        "id": "WKTn1ulQ20NT"
      },
      "source": [
        "# Noise and Vaccancy Study \n",
        "print(\" Noise and vacancy study \");print('_'.center(70,'_'));\n",
        "print(' Null values per column \\n\\n',d_set.isnull().sum());print('_'.center(70,'_'))   #8  fields has nulls \n",
        "print(' Connection between nulls of various fields:-> [Name] \\n',d_set[d_set['name'].notna()].isnull().sum());print('_'.center(70,'_'))\n",
        "print(\"\"\" Connection between nulls of various fields:-> [yearpublished, minplayers, \n",
        "        maxplayers, playingtime, minplaytime, maxplaytime, minage] \\n\"\"\",\n",
        "      d_set[d_set['yearpublished'].isnull()])\n",
        "print('_'.center(70,'_'));\n",
        "print('x'.center(70,'*'))\n",
        "# ---- conclusion: nulls in name field is solo others are connected \n"
      ],
      "execution_count": null,
      "outputs": []
    },
    {
      "cell_type": "markdown",
      "metadata": {
        "id": "JObYqcsQ7_ku"
      },
      "source": [
        "##*Clearing dataset: noise and vaccancy cleaning*"
      ]
    },
    {
      "cell_type": "code",
      "metadata": {
        "id": "881ZMMe_27Gw"
      },
      "source": [
        "# Clearing dataset: noise and vaccancy cleaning \n",
        "d_set_f0=d_set.dropna(axis='index'); # separately removes 41+3 index lines \n",
        "print(' Pre-Cleaning size  : ',d_set.shape);print('_'.center(70,'_'));\n",
        "print(' Post-Cleaning size : ',d_set_f0.shape);print('_'.center(70,'_'));\n"
      ],
      "execution_count": null,
      "outputs": []
    },
    {
      "cell_type": "markdown",
      "metadata": {
        "id": "afJXH6KO73f0"
      },
      "source": [
        "##*Exploration of the data*"
      ]
    },
    {
      "cell_type": "code",
      "metadata": {
        "id": "LCV6IvH33ASi"
      },
      "source": [
        "# Exploration of the data\n",
        "# EDA:#1\n",
        "fig_1=plts.figure(figsize=(13,6.5));fig_1.canvas.set_window_title('EDA plot(1): Average rating histogram')\n",
        "sns.histplot(d_set_f0['average_rating']);\n",
        "plts.xlabel('Average Rating');plts.title('Variation of average rating received');\n",
        "plts.show();"
      ],
      "execution_count": null,
      "outputs": []
    },
    {
      "cell_type": "code",
      "metadata": {
        "id": "2SIJ9oCKJvVC"
      },
      "source": [
        "# EDA:#2\n",
        "d_set_f0[d_set_f0['average_rating']==0].head()    #check:1"
      ],
      "execution_count": null,
      "outputs": []
    },
    {
      "cell_type": "code",
      "metadata": {
        "id": "trm3lYRU-iE5"
      },
      "source": [
        "# EDA:#2(contd.)\n",
        "d_set_f0[d_set_f0['average_rating']>0].head()    #check:2"
      ],
      "execution_count": null,
      "outputs": []
    },
    {
      "cell_type": "markdown",
      "metadata": {
        "id": "1hJBy50D-smW"
      },
      "source": [
        "info determined: games with average_rating =0 also has users_rating =0. Hence, all those games that has no average rating can be contributed to also having no users rating for the game and therefore may not be a candidate to analysis."
      ]
    },
    {
      "cell_type": "code",
      "metadata": {
        "id": "oWbXZw3M_k18"
      },
      "source": [
        "# EDA decision #1 (EDA#1 & EDA#2)\n",
        "d_set_f1=d_set_f0[d_set_f0['average_rating']>0] # keeping only the games that have at least an average rating \n",
        "# EDA:#3\n",
        "fig_2=plts.figure(figsize=(13,6.5));fig_2.canvas.set_window_title('EDA plot(2): Average rating histogram')\n",
        "sns.histplot(d_set_f1['average_rating']);\n",
        "plts.xlabel('Average Rating');plts.title('Variation of average rating received');\n",
        "plts.show();"
      ],
      "execution_count": null,
      "outputs": []
    },
    {
      "cell_type": "code",
      "metadata": {
        "id": "c4SmKbs1Fvfy"
      },
      "source": [
        "# EDA:#4\n",
        "corr_info=d_set_f1.corr()\n",
        "fig_3=plts.figure(figsize=(13,11));fig_3.canvas.set_window_title('EDA plot(3): Field Correlation information')\n",
        "sns.heatmap(corr_info,vmax=0.8,square=True);plts.xticks(rotation=45,ha='right');\n",
        "plts.xlabel('Fields');plts.ylabel('Fields');plts.title('Correlation between fields of the dataset ');\n",
        "plts.show();"
      ],
      "execution_count": null,
      "outputs": []
    },
    {
      "cell_type": "markdown",
      "metadata": {
        "id": "406wXBF-QDHG"
      },
      "source": [
        "info determined: average rating is the target variable for determination of a game quality.Secondarily, the name, type and id fields have no contribution. Also bayes rating and publishing year have very low correlation to the determining factors."
      ]
    },
    {
      "cell_type": "code",
      "metadata": {
        "id": "nWOOCWdGUV5R"
      },
      "source": [
        "# EDA decision #2 (EDA#3 & EDA#4)\n",
        "contributors=[a_column for a_column in d_set_f1.columns.tolist() if a_column not in ['id','name','type','bayes_average_rating','yearpublished']]\n",
        "affectors='average_rating'\n",
        "full_X=d_set_f1[contributors].values\n",
        "full_Y=d_set_f1[affectors].values\n",
        "print(' Dataset components (After EDA decision: #2 ) : ');print('_'.center(70,'_'));\n",
        "print(\" Independent variables' value set \\n\",full_X);print('_'.center(70,'_'));\n",
        "print(\" Dependent variable's value set \\n\",full_Y);print('_'.center(70,'_'));"
      ],
      "execution_count": null,
      "outputs": []
    },
    {
      "cell_type": "markdown",
      "metadata": {
        "id": "QodMtcIZ0_f8"
      },
      "source": [
        "##*Visualization of the fields distribution*"
      ]
    },
    {
      "cell_type": "code",
      "metadata": {
        "id": "gtIfZfNh1zGY"
      },
      "source": [
        "fig_4=plts.figure(figsize=(20,14.5));fig_4.canvas.set_window_title('Visuals plot(1): Visualization scatters of contributing fields ')\n",
        "pos_counter=1 #preset value for 16 places 4x4 setup \n",
        "warnings.filterwarnings('ignore')\n",
        "plts.title('Comparison of Average rating with other field values ');\n",
        "plts.tick_params(axis='x',which='both',bottom=False,top=False,labelbottom=False)\n",
        "plts.tick_params(axis='y',which='both',left=False,right=False,labelleft=False)\n",
        "plts.gca().spines['left'].set_visible(False)\n",
        "plts.gca().spines['right'].set_visible(False)\n",
        "plts.gca().spines['bottom'].set_visible(False)\n",
        "plts.gca().spines['top'].set_visible(False)\n",
        "for a_column in contributors:\n",
        "    fig_4.add_subplot(4,4,pos_counter)\n",
        "    sns.scatterplot(d_set_f1[a_column],d_set_f1[affectors],alpha=0.5)\n",
        "    plts.xlabel(a_column);plts.ylabel(affectors);\n",
        "    pos_counter+=1\n",
        "plts.show()"
      ],
      "execution_count": null,
      "outputs": []
    },
    {
      "cell_type": "markdown",
      "metadata": {
        "id": "xCfJkeSmLyiB"
      },
      "source": [
        "##*Training on Models*"
      ]
    },
    {
      "cell_type": "markdown",
      "metadata": {
        "id": "XCzRsCKOMERY"
      },
      "source": [
        "###*Part:1 Splitting Data*"
      ]
    },
    {
      "cell_type": "code",
      "metadata": {
        "id": "3SLtcnSGLx8N"
      },
      "source": [
        "# Training on Models \n",
        "#Part:1 Splitting \n",
        "trainX,testX,trainY,testY=train_test_split(full_X,full_Y,test_size=0.21,random_state=52)\n",
        "print(' Training set size for Independent variables  : ',trainX.shape);print('_'.center(70,'_'));\n",
        "print(' Training set size for Dependent variables    : ',trainY.shape);print('_'.center(70,'_'));\n",
        "print(' Testing set size for Independent variables   : ',testX.shape);print('_'.center(70,'_'));\n",
        "print(' Testing set size for Dependent variables     : ',testY.shape);print('_'.center(70,'_'));"
      ],
      "execution_count": null,
      "outputs": []
    },
    {
      "cell_type": "markdown",
      "metadata": {
        "id": "LgYyRfk8QOMB"
      },
      "source": [
        "###*Part:2 Model Creation (Multiple models)*"
      ]
    },
    {
      "cell_type": "code",
      "metadata": {
        "id": "TQy_-98TQaTz"
      },
      "source": [
        "#Part:2 Model Creation (Multiple models)\n",
        "model_list=\"\"\"\n",
        "        Linear Regression         : LR\n",
        "        Ridge Regression          : R2\n",
        "        Bayesian Ridge Regression : BR2\n",
        "        Support Vector Regression : SVR\n",
        "        Decision Tree Regression  : DTR\n",
        "        Random Forest Regression  : RFT\n",
        "        \"\"\"\n",
        "print('Creating models for : \\n',model_list);print('_'.center(70,'_'));\n",
        "models={'LR':LR(),'R2':R2(),'BR2':BR2(),'SVR':SVR(),'DTR':DTR(),'RFT':RFT()}"
      ],
      "execution_count": null,
      "outputs": []
    },
    {
      "cell_type": "markdown",
      "metadata": {
        "id": "mWq-TVuYboJk"
      },
      "source": [
        "###*Part:3 Training Data on Models (Multiple Models)*\n"
      ]
    },
    {
      "cell_type": "code",
      "metadata": {
        "id": "Hw2xXD8sb716"
      },
      "source": [
        "#Part:3 Training Data on Models (Multiple models)\n",
        "print(' Model Training Status : ')\n",
        "for key in models:\n",
        "    models[key].fit(trainX,trainY)\n",
        "    print('\\tTrained Model : ',key)\n",
        "print('_'.center(70,'_'));"
      ],
      "execution_count": null,
      "outputs": []
    }
  ]
}